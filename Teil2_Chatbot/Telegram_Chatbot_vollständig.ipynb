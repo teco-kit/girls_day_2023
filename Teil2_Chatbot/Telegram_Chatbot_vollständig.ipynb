{
  "cells": [
    {
      "attachments": {},
      "cell_type": "markdown",
      "metadata": {
        "id": "hrjzg_kaBTg2"
      },
      "source": [
        "# Telegram Chatbot\n",
        "Dieses Notbook enthält den Code, um über einen Telegram Chatbot mit ChatGPT zu schreiben.\n",
        "\n",
        "Das Konzept dieses Programs ist unkompliziert. \n",
        "1. Ein Nutzer schreibt im Telegram Web eine Nachricht.\n",
        "2. Das Programm prüft, ob es neue Nachricht (aller 5 Sekunde) im Chat gibt.\n",
        "3. Falls es eine neue Nachricht findet, leitet es sie an ChatGPT.\n",
        "4. Sobald ChatGPT antwortet, leitet das Programm die Antwort zurück an Telegram\n",
        "5. Die Vorgänge 1.-4. wiederholen sich, bis der Nutzer das Programm abbricht.\n",
        "\n",
        "Die Herausforderungen hier sind die Einstellung des ChatGPT und die Struktur der Telegram-Nachrichten zu verstehen, um die richtige Information zu extrahieren. Außerdem müssen wir das Programm anweisen, was zu tun, wenn es nicht funktioniert, sodass das Programm nicht fehlschlagen. Deshalb ist das Code immer so lang und sieht kompliziert.\n",
        "\n",
        "*Das Code wurde inspiriert von https://dev.to/leighola/creating-a-telegram-chatbot-with-chatgpt-a-step-by-step-guide-42gg*"
      ]
    },
    {
      "attachments": {},
      "cell_type": "markdown",
      "metadata": {
        "id": "JssbOAVxByAB"
      },
      "source": [
        "### Installieren notwendiger Bibliotheken"
      ]
    },
    {
      "cell_type": "code",
      "execution_count": null,
      "metadata": {
        "id": "4dXW2LmS8PiY"
      },
      "outputs": [],
      "source": [
        "!pip install python-dotenv\n",
        "!pip install playwright\n",
        "!pip install openai\n",
        "\n",
        "!playwright install "
      ]
    },
    {
      "attachments": {},
      "cell_type": "markdown",
      "metadata": {
        "id": "BKA1ylqGCHwT"
      },
      "source": [
        "### Importieren der Bibliotheken\n",
        "In der Programmiersprache Python müssen wir zu Beginn eines Programms die Bibliotheken importieren, die für das Programm benötigt werden. Für diesen Chatbot benötigen wir die folgenden Bibliotheken:\n",
        "\n",
        "* `time` : zum periodischen Abfragen der Nachrichten\n",
        "* `re` : zum Überprüfen der Nachrichten\n",
        "* `os` : zum Abfragen der Umgebungsvariablen (OpenAI und Telegram Token)\n",
        "* `requests` : erlaubt Web-Anfragen\n",
        "* `openai`: entält das Interface zu ChatGPT\n",
        "* `asyncio` : für asynchrone Webanfragen\n",
        "\n",
        "Man verwendet den Befehl `import`, um diese Bibliotheken zu importieren.\n",
        "\n",
        "Manchmal benötigen wir nur eine Funktion der Bibliothek. Anstatt die gesamte Bibliothek zu importieren, können wir auch nur die Funktion importieren. In diesem Fall schreibenn wir z.B.\n",
        "\n",
        "* `from dotenv import load_dotenv` : erlaubt das definieren von Umgebungsvariablen\n",
        "* `from playwright.async_api import async_playwright` : für asynchrone Webanfragen"
      ]
    },
    {
      "attachments": {},
      "cell_type": "markdown",
      "metadata": {},
      "source": [
        "**Aufgabe: Bitte die fehlende Bibliotheken importieren**"
      ]
    },
    {
      "cell_type": "code",
      "execution_count": 1,
      "metadata": {
        "id": "jX8JgfOQ7rtg"
      },
      "outputs": [],
      "source": [
        "from dotenv import load_dotenv # erlaubt das definieren von Umgebungsvariablen\n",
        "import time # zum periodischen Abfragen der Nachrichten\n",
        "\n",
        "## Bitte die fehlende Bibliotheken [re, os, requests, openai] importieren\n",
        "import re # zum Überprüfen der Nachrichten\n",
        "import os # zum Abfragen der Umgebungsvariablen (OpenAI und Telegram Token)\n",
        "import requests # erlaubt Web-Anfragen\n",
        "import openai # entält das Interface zu ChatGPT\n",
        "\n",
        "import asyncio # für asynchrone Webanfragen\n",
        "from playwright.async_api import async_playwright # für asynchrone Webanfragen, um mit ChatGPT zu interagieren"
      ]
    },
    {
      "attachments": {},
      "cell_type": "markdown",
      "metadata": {
        "id": "ki5edJ5aDVKX"
      },
      "source": [
        "### Definieren der Umgebungsvariable\n",
        "Zunächst müssen wir unsere Umgebungsvariablen einrichten. Hier nutzen wir 3 Umgebungsvariablen:\n",
        "1. (Nötig) `OPENAI_API_KEY`, die ein \"Schlüssel\" für den ChatGPT Zugang speichert; und\n",
        "2. (Nötig) `TELEGRAM_TOKEN`, die ein Telegram Token (wie ein Ausweis / eine Eintrittskarte) speichert; und\n",
        "3. (Optional) `CHAT_ID`, die eine kommagetrennte Sammlung der Chat-IDs der Chats speichert.\n",
        "\n",
        "Die Umgebungsvariable `OPENAI_API_KEY` speichert der OpenAI-API-Schlüssel. Dieser Schlüssel ist eine eindeutige Kennung, die für den Zugriff auf die OpenAI-API erforderlich ist, die uns den Zugang zu ChatGPT ohne Web-Browser ermöglicht. \n",
        "\n",
        "Die Umgebungsvariable `TELEGRAM_TOKEN` wird verwendet, um das Token für unseren Telegram-Bot zu speichern. Dies ist eine lange Zeichenfolge aus Buchstaben und Zahlen, die zur Authentifizierung unseres Bots bei der Telegram-API verwendet wird. Wir benötigen dieses Token, um Nachrichten von Telegram senden und empfangen zu können.\n",
        "\n",
        "Die Umgebungsvariable `CHAT_ID` ist **optional** und wird verwendet, um eine kommagetrennte Sammlung der Chat-IDs der Chats zu speichern, die unseren Bot verwenden dürfen. Die Chat-ID ist eine eindeutige Kennung für jeden Chat auf Telegram, und wir können sie verwenden, um nur bestimmten Benutzern die Nutzung unseres Bots zu erlauben. Auf diese Weise können wir unseren Bot privat halten und nur unseren Freunden erlauben, ihn zu benutzen."
      ]
    },
    {
      "cell_type": "code",
      "execution_count": null,
      "metadata": {},
      "outputs": [],
      "source": [
        "# Bitte dein OpenAI API-Key, Telegram-Bot Token und (optional) Chat-IDs hier geben.\n",
        "OPENAI_API_KEY = \"<Generated OpenAI Key>\" # Bitte dein OpenAI API Key hier geben.\n",
        "TELEGRAM_TOKEN= \"<Dein Telegram Token hier>\"  ## z.B.123456:ABC-DEF1234ghIkl-zyx57W2v1u123ew11\n",
        "CHAT_ID = \"<Deine Chat-IDs hier>\"  ## z.B. -246810121416, 0123456789"
      ]
    },
    {
      "attachments": {},
      "cell_type": "markdown",
      "metadata": {},
      "source": [
        "#### Hinweise über die Handlung der sensible Information wie API-Schlüssel und Token.\n",
        "\n",
        "Wenn wir sensible Informationen (z.B. Passwörter) haben, die wir nicht explizit in unserem Code speichern wollen. Wir schreiben diese Informationen in eine .env-Datei. Diese Datei wird aber nicht an die Versionskontrolle übergeben oder mit anderen geteilt.\n",
        "\n",
        "Durch den Aufruf von `load_dotenv()` können wir den Inhalt der .env-Datei in die Umgebungsvariablen des Systems laden, sodass unser Python-Skript auf sie zugreifen kann. Auf diese Weise ist es einfach, sensible Informationen aus unserem Code herauszuhalten und Code weiterzugeben, ohne sensible Informationen weiterzugeben.\n",
        "\n",
        "Korrekterweise hätten wir einen Projektordner anlegen und eine .env-Datei in diesen Ordner schreiben müssen. Für diesen Workshop werden wir jedoch zur Vereinfachung unsere sensiblen Informationen direkt in unseren Code schreiben. **TU DIES NICHT IN DER PRAXIS!**"
      ]
    },
    {
      "cell_type": "code",
      "execution_count": null,
      "metadata": {},
      "outputs": [],
      "source": [
        "## Erstellen eine .env-Datei im Stammverzeichnis unseres Projekts\n",
        "with open(\".env\",\"w+\") as file:\n",
        "   \n",
        "    ## Erstellen die Umgebungsvariablen TELEGRAM_TOKEN \n",
        "    file.write(f\"TELEGRAM_TOKEN={TELEGRAM_TOKEN}\\n\")\n",
        "    file.write(f\"OPENAI_API_KEY={OPENAI_API_KEY}\\n\")\n",
        "\n",
        "    ## Falls CHAT_ID angegeben ist, schreiben die Chat-IDs auch als eine Umgebungsvariable \n",
        "    if len(CHAT_ID)>0:\n",
        "        file.write(f\"CHAT_ID={CHAT_ID}\\n\") "
      ]
    },
    {
      "attachments": {},
      "cell_type": "markdown",
      "metadata": {},
      "source": [
        "Wir verwenden die Funktion `load_dotenv`, um die Umgebungsvariablen aus einer Datei namens .env zu laden, die sich im selben Verzeichnis wie unser Skript befindet."
      ]
    },
    {
      "cell_type": "code",
      "execution_count": 3,
      "metadata": {
        "id": "4Rb5YbsI-ubY"
      },
      "outputs": [],
      "source": [
        "## Laden Umgebungsvariablen aus .env-Datei.\n",
        "load_dotenv()\n",
        "\n",
        "## Geben OpenAI Schlüssel ein.\n",
        "openai.api_key = os.environ['OPENAI_API_KEY']"
      ]
    },
    {
      "attachments": {},
      "cell_type": "markdown",
      "metadata": {
        "id": "hZ8ZfUaADlBd"
      },
      "source": [
        "### Webanfragen und ChatGPT\n",
        "\n",
        "Beim Programmieren ist eine Funktion eine Reihe von Anweisungen, die wir immer dann wiederverwenden können, wenn wir eine bestimmte Aufgabe in unserem Code ausführen müssen. \n",
        "\n",
        "In Python definieren wir eine Funktion mit einem Format\n",
        "```\n",
        "def function_name(Eingaben):\n",
        "    Anweisungen oder Vorgehen\n",
        "\n",
        "    return Ausgabe\n",
        "```\n",
        "\n",
        "Um die Funktion zu benutzen, schreiben wir\n",
        "```\n",
        "function_name(Eingaben)\n",
        "```\n",
        "\n",
        "Im folgenden Abschnitt definieren wir die benötigenden Funktionen."
      ]
    },
    {
      "attachments": {},
      "cell_type": "markdown",
      "metadata": {},
      "source": [
        "#### Methoden, um mit ChatGPT zu kommunizieren\n",
        "Wir brauchen 2 Funktionen, um mit ChatGPT zu kommunizieren.\n",
        "\n",
        "1. `message_to_chatgpt(message)` gibt die Einstellungen an ChatGPT an und schickt Nachrichten an ChatGPT. Mit der Schlüsselwörter (*Keyword arguments*) `model`,`temperature`,`presence_penalty`,`frequency_penalty` könn wird die Sprachmodellversion (`model`) auswählen und die Charakteristiken der Antwort einstellen. Mit dem Schlüsselwort `messages` geben wir unsere Nachrichten an. Die Nachrichten müssen dieses Format haben:\n",
        "```\n",
        "messages = [{\"role\":\"entweder user, assistant, system\":\"Prompt 1\"},\n",
        "            {\"role\":\"entweder user, assistant, system\":\"Prompt 2\"},\n",
        "            ...\n",
        "            {\"role\":\"entweder user, assistant, system\":\"Letztes Prompt = Nachricht an ChatGPT\"}]\n",
        "```\n",
        "Die Rolle `user`,`assistant`,`system` weist ChatGPT hin, von \"wem\" ist die Nachricht. Das Verhalten des ChatGPT kann nach dieser Rolle variieren. Wenn wir wollen, dass ChatGPT mit einer bestimmten Stil antworten, geben wir das Prompt aus der Rolle `system` ein. Zum Beispiel\n",
        "```\n",
        "messages = [{\"role\":\"system\":\"Imagine you are a 5-year old girl. You response to everything like her.\"},\n",
        "            ...]\n",
        "```\n",
        "Das Prompt `\"Imagine you are a 5-year old girl. You response to everything like her.\"` weist ChatGPT an, dass es wie eine Fünfjährige antworten muss. ChatGPT wird nicht auf diese Anweisung keine Rückmeldung geben. Es antwortet nur auf die letzte Nachricht.\n",
        "\n",
        "*Für detailierte Information über die mögliche Einstellungen von ChatGPT, siehe https://platform.openai.com/docs/api-reference/chat (in Englisch)*   \n",
        "\n",
        "2. Die `send_and_receive(message, trial=1)` Funktion ruft die Funktion `message_to_chatgpt(message)` ab und prüf, ob ChatGPT antwortet. Sie versucht 3 Mal die Nachricht zu schicken, falls sie keine Antwort sofort bekommt. Ansonsten bricht die Aktion ab."
      ]
    },
    {
      "cell_type": "code",
      "execution_count": null,
      "metadata": {},
      "outputs": [],
      "source": [
        "def message_to_chatgpt(message):\n",
        "    \"\"\" \n",
        "    Die Funktion die Einstellungen für ChatGPT geben. Dann schickt eine Nachricht (Prompt) an ChatGPT. \n",
        "    Die Funktion gibt die Antwort von ChatGPT basierend auf der Einstellung zurück.\n",
        "    \"\"\"\n",
        "    ## Wenn wir die Antwort-Stil ändern möchten, ändern wir die Code-Reihe unten und gibt an, in wessen Stil\n",
        "    ## ChatGPT antworten soll. \n",
        "    ## Hier sollte ChatGPT als ein Persönlichkeittest sein.\n",
        "    ## Probiere: \"Imagine you are a 5-year old girl. You response to everything like her.\"\n",
        "    message_prompt = \"Du bist ein Chatbot, der einen Persönlichkeitstest, um heraus zu finden welches Tier die Person ist. Die Person schreibt etwas über sich. Als Ergebnis gibst du ein Tier zurück, das auf der Persönlichkeit der Person basiert. Starte nach dieser Nachricht mit einer kurzen Erklärung. Erkäre, dass die Person kurz etwas über ihre Hobbys und Interessen erzählen soll und du basierend darauf bestimmst, welches Tier sie ist.\"\n",
        "    completion = openai.ChatCompletion.create(\n",
        "        model=\"gpt-3.5-turbo\",  ## Alternativ: gpt-3.5-turbo-0301\n",
        "        \n",
        "        ## Hier kann man die Charakteristiken der Antwort einstellen\n",
        "        temperature = 1,  ## zwischen 0 und 2. Ein höher Wert macht die Antwort beliebiger.\n",
        "        presence_penalty = 0,  ## zwischen -2.0 und 2.0. Positive Werte macht ChatGPT über neue Themen sprechen.\n",
        "        frequency_penalty = 0, ## zwischen -2.0 und 2.0. Positive Werte senkt ChatGPTs Tendenz, sich mit ähnliche Sätze zu wiederholen.\n",
        "\n",
        "        messages=[\n",
        "            {\"role\": \"system\", \"content\": message_prompt},  ## Stilangabe für ChatGPT\n",
        "            {\"role\": \"user\", \"content\": message}] ## ChatGPT wird auf dieser Nachricht antworten.\n",
        "    )  \n",
        "    return completion.choices[0].message.content"
      ]
    },
    {
      "attachments": {},
      "cell_type": "markdown",
      "metadata": {},
      "source": [
        "Probiere, ob die Funktion funktioniert. Schreibe eine Nachricht an ChatGPT über diese Funktion."
      ]
    },
    {
      "cell_type": "code",
      "execution_count": null,
      "metadata": {},
      "outputs": [],
      "source": [
        "## Ruf die Funktion messeage_to_chatgpt() ab, um Deine Nachricht an ChatGPT zu senden.\n",
        "message_to_chatgpt(\"Erkläre, was eine Funktion beim Programmieren ist, an 11-jährige.\")"
      ]
    },
    {
      "cell_type": "code",
      "execution_count": null,
      "metadata": {},
      "outputs": [],
      "source": [
        "async def send_and_receive(message, trial=1):\n",
        "    response = message_to_chatgpt(message)\n",
        "    print(f\"Response from chatGPT: '{response}'\")\n",
        "    \n",
        "    ## Regular expression (regex) anwenden, um zu prüfen, ob die Rückmeldung leer ist.\n",
        "    if (not response or re.match(r\"^[^a-zA-Z0-9]$\", response)) and trial <= 3:\n",
        "        print(\"No response from chatGPT, trying again\")\n",
        "        return await send_and_receive(message, trial=trial*1.5)\n",
        "    elif trial > 3:\n",
        "        print(\"No response from chatGPT, giving up\")\n",
        "        return \"<ChatGPT is not responding.>\"\n",
        "    return response"
      ]
    },
    {
      "attachments": {},
      "cell_type": "markdown",
      "metadata": {},
      "source": [
        "Um die Funktion mit dem Schlüsselwort `async` abzurufen, müssen wir das Schlüsselwort `await` benutzen."
      ]
    },
    {
      "cell_type": "code",
      "execution_count": null,
      "metadata": {},
      "outputs": [],
      "source": [
        "## Testen, ob die Funktion funktioniert.\n",
        "await send_and_receive(\"What does the Python function load_env() do?\")"
      ]
    },
    {
      "attachments": {},
      "cell_type": "markdown",
      "metadata": {},
      "source": [
        "### Methoden, um mit Telegram zu kommunizieren\n",
        "Die Hauptfunktion hier ist die Funktion `check_for_new_updates()`. Diese Funktion\n",
        "1. sucht nach eine neue Nachricht an ChatBot im URL https://api.telegram.org/bot`TELEGRAM_TOKEN`,\n",
        "2. extrahiert die Nachricht, Chat-ID, und Message-ID (um auf bestimmte Nachricht zu antworten),\n",
        "3. prüft mit Funktion `check_chat_id(chat_id)`, ob Chat-ID erlaubt ist (falls `CHAT_ID` vorhanden),\n",
        "4. schickt die Nachricht an ChatGPT,\n",
        "5. und leitet die Antwort von ChatGPT an Telegram weiter (mit der Funktion `send_message_to_telegram(message, chat_id, message_id)`.)\n",
        "\n",
        "Wenn wir die Nachrichten an unser Bot abfragen mit dem URL `https://api.telegram.org/bot`TELEGRAM_TOKEN`/getUpdates`, bekommen wir die Ergebnisse im Format:\n",
        "```\n",
        "{\"ok\":true,\"result\":[\n",
        "    {\"update_id\":447340877,\n",
        "    \"message\":{\"message_id\":5\n",
        "                ,\"from\":{\"id\":##########,\"is_bot\":false,\"first_name\":\"Vorname\",\"last_name\":\"Nachname\",\"language_code\":\"de\"}\n",
        "                ,\"chat\":{\"id\":##########,\"first_name\":\"Vorname\",\"last_name\":\"Nachname\",\"type\":\"private\"}\n",
        "                ,\"date\":1682420667\n",
        "                ,\"text\":\"Hello world!\"}}]}\n",
        "```\n",
        "Das Code in der Funktion `check_for_new_updates()` geht in diese Ergebnisse durch, um die Information in `update_id`, `message_id`, `chat[id]`, `text` zu extrahieren.\n",
        "\n",
        "\n",
        "Woher wissen wir, welche Befehle, Funktionen, und Schlüsselwörter gibt es und wann benutzen wir welche? Wir können hier nachschlagen: https://core.telegram.org/bots/api"
      ]
    },
    {
      "cell_type": "code",
      "execution_count": null,
      "metadata": {},
      "outputs": [],
      "source": [
        "## Definieren globale Variablen\n",
        "last_update = 0  ## entspricht `update_id`, ein Bezeichner für die Aktualisierung. \n",
        "url = f\"https://api.telegram.org/bot{os.environ['TELEGRAM_TOKEN']}\"  ## URL für Webanfrage des Chatbots\n",
        "\n",
        "def send_message_to_telegram(message, chat_id, message_id):\n",
        "    global url  ## Die Funktion sollte die globale Variable \"url\" modifizieren.\n",
        "\n",
        "    ## Beim senden der Nachrichten an Telegram müssen wir die Parameter für `chat_id` und `text` angeben.\n",
        "    ## Der Parameter `reply_to_message` sagt zu Telegram, dass die Nachricht eine Antwort für eine bestimmte Nachricht ist.\n",
        "    params = {\"chat_id\": chat_id, \"reply_to_message_id\": message_id, \"text\": message}\n",
        "    \n",
        "    ## Schicken eine Nachricht und speichern den Zustand der Nachricht (erfolgreich oder nicht)\n",
        "    response = requests.get(url+\"/sendMessage\", params)\n",
        "    if response.status_code == 200:  ## HTTP-Status Code 200 bedeutet die Anfrage (request) ist erfolgreich.\n",
        "        print(\"Sent response to telegram successfully\")\n",
        "    else:\n",
        "        print(\"Error sending response to telegram:\", response.text)\n",
        "    return None\n",
        "\n",
        "def check_chat_id(chat_id):\n",
        "    \"\"\"\n",
        "    Prüfen, ob Chat-IDs erlaubt sind.\n",
        "    Die Funktion gibt den Wert \"True\" (= 1) zurück, falls Chat-IDs nicht gegeben oder ungültig sind. \n",
        "    \"\"\"\n",
        "    ## Prüfen, ob die Umgebungsvariable CHAT_ID existiert.\n",
        "    try:\n",
        "        chat_id_env = os.environ['CHAT_ID']\n",
        "    except:\n",
        "        return True  ## Falls CHAT_ID nicht existiert, gibt \"True\" zurürck\n",
        "    if chat_id_env == \"\":\n",
        "        return True  ## Falls kein CHAT_ID gegeben sind, gibt \"True\" zurück\n",
        "    \n",
        "    ## Sonst speichern Chat-IDs in einer Liste und gibt diese zurück\n",
        "    ## Schreiben -246810121416, 0123456789 in [-246810121416, 0123456789], sodass Python sie lesen kann.\n",
        "    chat_id_list = chat_id_env.split(',')  \n",
        "    chat_id_list = [x.strip() for x in chat_id_list]  ## Entferne leere Zeichnen\n",
        "    return str(chat_id) in chat_id_list\n",
        "\n",
        "\n",
        "async def check_for_new_updates():\n",
        "    \"\"\"\n",
        "    Suchen nach eine neue Nachricht im Chat.\n",
        "    \"\"\"\n",
        "    global last_update  ## Die Funktion sollte die globale Variable \"last_update\" modifizieren.\n",
        "    params = {\"allowed_updates\": [\"message\"]}  ## Wir wollen nur neue Nachrichten sehen. (Ansonsten bekommen wir andere Info dazu.)\n",
        "    \n",
        "    if last_update != 0:\n",
        "        params['offset'] = last_update + 1  ## Abfragen nur die aktuelle Nachricht.\n",
        "\n",
        "    print(\"Checking for updates\")\n",
        "    response = requests.get(url+\"/getUpdates\", params)\n",
        "    if response.status_code == 200:  ## Falls die Webanfrage erfolgreich ist\n",
        "        data = response.json()  ## Konvertieren die Ergebnisse der Abfrage ins Python-Dict Format für die Verarbeitung\n",
        "        if data[\"ok\"]:  ## Wenn data[\"ok\"] == True: alles in Ordnung ist,\n",
        "            if data[\"result\"]:  ## Wenn die Ergebnis der Abfrage nicht leer ist, \n",
        "                ## Hier beginnt die Informationsextraktion.\n",
        "                ## Die Ergebnisse der Abfrage ausgeben.\n",
        "                for update in data[\"result\"]:\n",
        "                    print(update)\n",
        "                    try:\n",
        "                        ## Suchen nach eine Schlüsselwort \"message\" im Ergebnis. Falls nicht vorhanden, nehmen \"edited_message\"\n",
        "                        key = 'message' if 'message' in update else 'edited_message'\n",
        "                        last_update = update['update_id']  ## Die aktuelle Update-ID speichern.\n",
        "\n",
        "                        try:\n",
        "                            ## Abrufen Chat-ID und Message-ID\n",
        "                            chat_id = update[key][\"chat\"][\"id\"]\n",
        "                            message_id = update[key][\"message_id\"]\n",
        "                            \n",
        "                            ## Abrufen der aktuelle Nachrichten\n",
        "                            message = update[key][\"text\"]\n",
        "                        except:\n",
        "                            ## Falls das Ergebnis keine gültige Nachricht enthält, informiert der Nutzer\n",
        "                            ## und schauen die nächste Nachricht. Die Methode endet, wenn es keine weitere Nachrichten gibt.\n",
        "                            print(\"This update is not a valid message or edited_message\")\n",
        "                            continue\n",
        "\n",
        "                        ## Falls CHAT_ID angegeben werden und wir eine Nachricht aus anderen Chat abfragen,\n",
        "                        ## wird diese Nachricht übersprungen. \n",
        "                        if not check_chat_id(chat_id):\n",
        "                            print(\"Chat ID not allowed\")\n",
        "                            continue\n",
        "\n",
        "                        ##  Senden die aktuelle Nachricht an ChatGPT und warten auf die Antwort\n",
        "                        response = await send_and_receive(message)\n",
        "                        \n",
        "                        ## Senden die Antwort von ChatGPT an Telegram\n",
        "                        send_message_to_telegram(response, chat_id, message_id)\n",
        "\n",
        "                    except Exception as e:\n",
        "                        print(\"Error processing update\", update['update_id'], e)\n",
        "                return data[\"result\"][0]\n",
        "            else:\n",
        "                print(\"No new updates\")\n",
        "                return None\n",
        "    ## Ausgeben Fehlermeldung und die Antwort\n",
        "    print(\"Error getting updates:\", response.text)\n",
        "\n",
        "async def check_for_new_updates_periodically():\n",
        "    \"\"\"\n",
        "    Suchen nach neue Nachrichten im Chat alle 5 Sekunden und schicken diese Nachricht an ChatGPT.\n",
        "    \"\"\"\n",
        "    while True:\n",
        "        await check_for_new_updates()\n",
        "        time.sleep(5)"
      ]
    },
    {
      "attachments": {},
      "cell_type": "markdown",
      "metadata": {},
      "source": [
        "Die Funktion `start_browser()` startet unser Chatbot. Lass das Code unten laufen. Gehen zu https://web.telegram.org/ und in Telegram-Konto anhand QR Code einloggen. Jetzt können wir mit unserem Bot loschatten!"
      ]
    },
    {
      "cell_type": "code",
      "execution_count": null,
      "metadata": {
        "id": "sBCPjmMZfP-a"
      },
      "outputs": [],
      "source": [
        "async def start_browser():\n",
        "    async with async_playwright() as playwright:\n",
        "      await check_for_new_updates_periodically()\n",
        "\n",
        "if __name__ == \"__main__\":\n",
        "    asyncio.run(await start_browser())"
      ]
    },
    {
      "attachments": {},
      "cell_type": "markdown",
      "metadata": {},
      "source": [
        "----\n",
        "<center> ENDE </center>"
      ]
    }
  ],
  "metadata": {
    "colab": {
      "provenance": []
    },
    "kernelspec": {
      "display_name": "teco_girlsday2023",
      "language": "python",
      "name": "python3"
    },
    "language_info": {
      "codemirror_mode": {
        "name": "ipython",
        "version": 3
      },
      "file_extension": ".py",
      "mimetype": "text/x-python",
      "name": "python",
      "nbconvert_exporter": "python",
      "pygments_lexer": "ipython3",
      "version": "3.9.16"
    }
  },
  "nbformat": 4,
  "nbformat_minor": 0
}
