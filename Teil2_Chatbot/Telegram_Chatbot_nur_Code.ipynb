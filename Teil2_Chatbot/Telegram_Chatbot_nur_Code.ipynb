{
  "cells": [
    {
      "attachments": {},
      "cell_type": "markdown",
      "metadata": {
        "id": "hrjzg_kaBTg2"
      },
      "source": [
        "# Telegram Chatbot\n",
        "Dieses Notbook enthält den Code, um über einen Telegram Chatbot mit ChatGPT zu schreiben.\n",
        "\n",
        "Das Konzept dieses Programs ist unkompliziert. \n",
        "1. Ein Nutzer schreibt im Telegram Web eine Nachricht.\n",
        "2. Das Programm prüft, ob es neue Nachricht (aller 5 Sekunde) im Chat gibt.\n",
        "3. Falls es eine neue Nachricht findet, leitet es sie an ChatGPT.\n",
        "4. Sobald ChatGPT antwortet, leitet das Programm die Antwort zurück an Telegram\n",
        "5. Die Vorgänge 1.-4. wiederholen sich, bis der Nutzer das Programm abbricht.\n",
        "\n",
        "Die Herausforderungen hier sind die Einstellung des ChatGPT und die Struktur der Telegram-Nachrichten zu verstehen, um die richtige Information zu extrahieren. Außerdem müssen wir das Programm anweisen, was zu tun, wenn es nicht funktioniert, sodass das Programm nicht fehlschlagen. Deshalb ist das Code immer so lang und sieht kompliziert.\n",
        "\n",
        "*Das Code wurde inspiriert von https://dev.to/leighola/creating-a-telegram-chatbot-with-chatgpt-a-step-by-step-guide-42gg*"
      ]
    },
    {
      "attachments": {},
      "cell_type": "markdown",
      "metadata": {
        "id": "JssbOAVxByAB"
      },
      "source": [
        "### Installieren notwendiger Bibliotheken"
      ]
    },
    {
      "cell_type": "code",
      "execution_count": null,
      "metadata": {
        "id": "4dXW2LmS8PiY"
      },
      "outputs": [],
      "source": [
        "!pip install python-dotenv\n",
        "!pip install playwright\n",
        "!pip install openai\n",
        "\n",
        "!playwright install "
      ]
    },
    {
      "cell_type": "code",
      "execution_count": 1,
      "metadata": {
        "id": "jX8JgfOQ7rtg"
      },
      "outputs": [],
      "source": [
        "from dotenv import load_dotenv # erlaubt das definieren von Umgebungsvariablen\n",
        "import time # zum periodischen Abfragen der Nachrichten\n",
        "\n",
        "## Bitte die fehlende Bibliotheken [re, os, requests, openai] importieren\n",
        "import re # zum Überprüfen der Nachrichten\n",
        "import os # zum Abfragen der Umgebungsvariablen (OpenAI und Telegram Token)\n",
        "import requests # erlaubt Web-Anfragen\n",
        "import openai # entält das Interface zu ChatGPT\n",
        "\n",
        "import asyncio # für asynchrone Webanfragen\n",
        "from playwright.async_api import async_playwright # für asynchrone Webanfragen, um mit ChatGPT zu interagieren"
      ]
    },
    {
      "cell_type": "code",
      "execution_count": null,
      "metadata": {},
      "outputs": [],
      "source": [
        "# Bitte dein OpenAI API-Key, Telegram-Bot Token und (optional) Chat-IDs hier geben.\n",
        "OPENAI_API_KEY = \"<Generated OpenAI Key>\" # Bitte dein OpenAI API Key hier geben.\n",
        "TELEGRAM_TOKEN= \"<Dein Telegram Token hier>\"  ## z.B.123456:ABC-DEF1234ghIkl-zyx57W2v1u123ew11\n",
        "CHAT_ID = \"<Deine Chat-IDs hier>\"  ## z.B. -246810121416, 0123456789"
      ]
    },
    {
      "cell_type": "code",
      "execution_count": null,
      "metadata": {},
      "outputs": [],
      "source": [
        "## Erstellen eine .env-Datei im Stammverzeichnis unseres Projekts\n",
        "with open(\".env\",\"w+\") as file:\n",
        "   \n",
        "    ## Erstellen die Umgebungsvariablen TELEGRAM_TOKEN \n",
        "    file.write(f\"TELEGRAM_TOKEN={TELEGRAM_TOKEN}\\n\")\n",
        "    file.write(f\"OPENAI_API_KEY={OPENAI_API_KEY}\\n\")\n",
        "\n",
        "    ## Falls CHAT_ID angegeben ist, schreiben die Chat-IDs auch als eine Umgebungsvariable \n",
        "    if len(CHAT_ID)>0:\n",
        "        file.write(f\"CHAT_ID={CHAT_ID}\\n\") "
      ]
    },
    {
      "cell_type": "code",
      "execution_count": 3,
      "metadata": {
        "id": "4Rb5YbsI-ubY"
      },
      "outputs": [],
      "source": [
        "## Laden Umgebungsvariablen aus .env-Datei.\n",
        "load_dotenv()\n",
        "\n",
        "## Geben OpenAI Schlüssel ein.\n",
        "openai.api_key = os.environ['OPENAI_API_KEY']"
      ]
    },
    {
      "cell_type": "code",
      "execution_count": null,
      "metadata": {},
      "outputs": [],
      "source": [
        "def message_to_chatgpt(message):\n",
        "    \"\"\" \n",
        "    Die Funktion die Einstellungen für ChatGPT geben. Dann schickt eine Nachricht (Prompt) an ChatGPT. \n",
        "    Die Funktion gibt die Antwort von ChatGPT basierend auf der Einstellung zurück.\n",
        "    \"\"\"\n",
        "    ## Wenn wir die Antwort-Stil ändern möchten, ändern wir die Code-Reihe unten und gibt an, in wessen Stil\n",
        "    ## ChatGPT antworten soll. \n",
        "    ## Hier sollte ChatGPT als ein Persönlichkeittest sein.\n",
        "    ## Probiere: \"Imagine you are a 5-year old girl. You response to everything like her.\"\n",
        "    message_prompt = \"Du bist ein Chatbot, der einen Persönlichkeitstest, um heraus zu finden welches Tier die Person ist. Die Person schreibt etwas über sich. Als Ergebnis gibst du ein Tier zurück, das auf der Persönlichkeit der Person basiert. Starte nach dieser Nachricht mit einer kurzen Erklärung. Erkäre, dass die Person kurz etwas über ihre Hobbys und Interessen erzählen soll und du basierend darauf bestimmst, welches Tier sie ist.\"\n",
        "    completion = openai.ChatCompletion.create(\n",
        "        model=\"gpt-3.5-turbo\",  ## Alternativ: gpt-3.5-turbo-0301\n",
        "        \n",
        "        ## Hier kann man die Charakteristiken der Antwort einstellen\n",
        "        temperature = 1,  ## zwischen 0 und 2. Ein höher Wert macht die Antwort beliebiger.\n",
        "        presence_penalty = 0,  ## zwischen -2.0 und 2.0. Positive Werte macht ChatGPT über neue Themen sprechen.\n",
        "        frequency_penalty = 0, ## zwischen -2.0 und 2.0. Positive Werte senkt ChatGPTs Tendenz, sich mit ähnliche Sätze zu wiederholen.\n",
        "\n",
        "        messages=[\n",
        "            {\"role\": \"system\", \"content\": message_prompt},  ## Stilangabe für ChatGPT\n",
        "            {\"role\": \"user\", \"content\": message}] ## ChatGPT wird auf dieser Nachricht antworten.\n",
        "    )  \n",
        "    return completion.choices[0].message.content"
      ]
    },
    {
      "cell_type": "code",
      "execution_count": null,
      "metadata": {},
      "outputs": [],
      "source": [
        "## Definieren globale Variablen\n",
        "last_update = 0  ## entspricht `update_id`, ein Bezeichner für die Aktualisierung. \n",
        "url = f\"https://api.telegram.org/bot{os.environ['TELEGRAM_TOKEN']}\"  ## URL für Webanfrage des Chatbots\n",
        "\n",
        "def send_message_to_telegram(message, chat_id, message_id):\n",
        "    global url  ## Die Funktion sollte die globale Variable \"url\" modifizieren.\n",
        "\n",
        "    ## Beim senden der Nachrichten an Telegram müssen wir die Parameter für `chat_id` und `text` angeben.\n",
        "    ## Der Parameter `reply_to_message` sagt zu Telegram, dass die Nachricht eine Antwort für eine bestimmte Nachricht ist.\n",
        "    params = {\"chat_id\": chat_id, \"reply_to_message_id\": message_id, \"text\": message}\n",
        "    \n",
        "    ## Schicken eine Nachricht und speichern den Zustand der Nachricht (erfolgreich oder nicht)\n",
        "    response = requests.get(url+\"/sendMessage\", params)\n",
        "    if response.status_code == 200:  ## HTTP-Status Code 200 bedeutet die Anfrage (request) ist erfolgreich.\n",
        "        print(\"Sent response to telegram successfully\")\n",
        "    else:\n",
        "        print(\"Error sending response to telegram:\", response.text)\n",
        "    return None\n",
        "\n",
        "def check_chat_id(chat_id):\n",
        "    \"\"\"\n",
        "    Prüfen, ob Chat-IDs erlaubt sind.\n",
        "    Die Funktion gibt den Wert \"True\" (= 1) zurück, falls Chat-IDs nicht gegeben oder ungültig sind. \n",
        "    \"\"\"\n",
        "    ## Prüfen, ob die Umgebungsvariable CHAT_ID existiert.\n",
        "    try:\n",
        "        chat_id_env = os.environ['CHAT_ID']\n",
        "    except:\n",
        "        return True  ## Falls CHAT_ID nicht existiert, gibt \"True\" zurürck\n",
        "    if chat_id_env == \"\":\n",
        "        return True  ## Falls kein CHAT_ID gegeben sind, gibt \"True\" zurück\n",
        "    \n",
        "    ## Sonst speichern Chat-IDs in einer Liste und gibt diese zurück\n",
        "    ## Schreiben -246810121416, 0123456789 in [-246810121416, 0123456789], sodass Python sie lesen kann.\n",
        "    chat_id_list = chat_id_env.split(',')  \n",
        "    chat_id_list = [x.strip() for x in chat_id_list]  ## Entferne leere Zeichnen\n",
        "    return str(chat_id) in chat_id_list\n",
        "\n",
        "\n",
        "async def check_for_new_updates():\n",
        "    \"\"\"\n",
        "    Suchen nach eine neue Nachricht im Chat.\n",
        "    \"\"\"\n",
        "    global last_update  ## Die Funktion sollte die globale Variable \"last_update\" modifizieren.\n",
        "    params = {\"allowed_updates\": [\"message\"]}  ## Wir wollen nur neue Nachrichten sehen. (Ansonsten bekommen wir andere Info dazu.)\n",
        "    \n",
        "    if last_update != 0:\n",
        "        params['offset'] = last_update + 1  ## Abfragen nur die aktuelle Nachricht.\n",
        "\n",
        "    print(\"Checking for updates\")\n",
        "    response = requests.get(url+\"/getUpdates\", params)\n",
        "    if response.status_code == 200:  ## Falls die Webanfrage erfolgreich ist\n",
        "        data = response.json()  ## Konvertieren die Ergebnisse der Abfrage ins Python-Dict Format für die Verarbeitung\n",
        "        if data[\"ok\"]:  ## Wenn data[\"ok\"] == True: alles in Ordnung ist,\n",
        "            if data[\"result\"]:  ## Wenn die Ergebnis der Abfrage nicht leer ist, \n",
        "                ## Hier beginnt die Informationsextraktion.\n",
        "                ## Die Ergebnisse der Abfrage ausgeben.\n",
        "                for update in data[\"result\"]:\n",
        "                    print(update)\n",
        "                    try:\n",
        "                        ## Suchen nach eine Schlüsselwort \"message\" im Ergebnis. Falls nicht vorhanden, nehmen \"edited_message\"\n",
        "                        key = 'message' if 'message' in update else 'edited_message'\n",
        "                        last_update = update['update_id']  ## Die aktuelle Update-ID speichern.\n",
        "\n",
        "                        try:\n",
        "                            ## Abrufen Chat-ID und Message-ID\n",
        "                            chat_id = update[key][\"chat\"][\"id\"]\n",
        "                            message_id = update[key][\"message_id\"]\n",
        "                            \n",
        "                            ## Abrufen der aktuelle Nachrichten\n",
        "                            message = update[key][\"text\"]\n",
        "                        except:\n",
        "                            ## Falls das Ergebnis keine gültige Nachricht enthält, informiert der Nutzer\n",
        "                            ## und schauen die nächste Nachricht. Die Methode endet, wenn es keine weitere Nachrichten gibt.\n",
        "                            print(\"This update is not a valid message or edited_message\")\n",
        "                            continue\n",
        "\n",
        "                        ## Falls CHAT_ID angegeben werden und wir eine Nachricht aus anderen Chat abfragen,\n",
        "                        ## wird diese Nachricht übersprungen. \n",
        "                        if not check_chat_id(chat_id):\n",
        "                            print(\"Chat ID not allowed\")\n",
        "                            continue\n",
        "\n",
        "                        ##  Senden die aktuelle Nachricht an ChatGPT und warten auf die Antwort\n",
        "                        response = await send_and_receive(message)\n",
        "                        \n",
        "                        ## Senden die Antwort von ChatGPT an Telegram\n",
        "                        send_message_to_telegram(response, chat_id, message_id)\n",
        "\n",
        "                    except Exception as e:\n",
        "                        print(\"Error processing update\", update['update_id'], e)\n",
        "                return data[\"result\"][0]\n",
        "            else:\n",
        "                print(\"No new updates\")\n",
        "                return None\n",
        "    ## Ausgeben Fehlermeldung und die Antwort\n",
        "    print(\"Error getting updates:\", response.text)\n",
        "\n",
        "async def check_for_new_updates_periodically():\n",
        "    \"\"\"\n",
        "    Suchen nach neue Nachrichten im Chat alle 5 Sekunden und schicken diese Nachricht an ChatGPT.\n",
        "    \"\"\"\n",
        "    while True:\n",
        "        await check_for_new_updates()\n",
        "        time.sleep(5)"
      ]
    },
    {
      "cell_type": "code",
      "execution_count": null,
      "metadata": {
        "id": "sBCPjmMZfP-a"
      },
      "outputs": [],
      "source": [
        "async def start_browser():\n",
        "    async with async_playwright() as playwright:\n",
        "      await check_for_new_updates_periodically()\n",
        "\n",
        "if __name__ == \"__main__\":\n",
        "    asyncio.run(await start_browser())"
      ]
    },
    {
      "attachments": {},
      "cell_type": "markdown",
      "metadata": {},
      "source": [
        "----\n",
        "<center> ENDE </center>"
      ]
    }
  ],
  "metadata": {
    "colab": {
      "provenance": []
    },
    "kernelspec": {
      "display_name": "teco_girlsday2023",
      "language": "python",
      "name": "python3"
    },
    "language_info": {
      "codemirror_mode": {
        "name": "ipython",
        "version": 3
      },
      "file_extension": ".py",
      "mimetype": "text/x-python",
      "name": "python",
      "nbconvert_exporter": "python",
      "pygments_lexer": "ipython3",
      "version": "3.9.16"
    }
  },
  "nbformat": 4,
  "nbformat_minor": 0
}
